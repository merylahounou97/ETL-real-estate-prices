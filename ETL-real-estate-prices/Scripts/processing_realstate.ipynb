{
 "cells": [
  {
   "cell_type": "markdown",
   "metadata": {},
   "source": [
    "# Modules"
   ]
  },
  {
   "cell_type": "code",
   "execution_count": 1,
   "metadata": {},
   "outputs": [],
   "source": [
    "import findspark\n",
    "findspark.init()"
   ]
  },
  {
   "cell_type": "code",
   "execution_count": 2,
   "metadata": {},
   "outputs": [],
   "source": [
    "from delta import *"
   ]
  },
  {
   "cell_type": "code",
   "execution_count": 3,
   "metadata": {},
   "outputs": [],
   "source": [
    "import os\n",
    "import pyspark\n",
    "from pyspark.sql.functions import *\n",
    "from pyspark.sql.types import *\n",
    "import configparser\n",
    "import realstate_utils as rs\n"
   ]
  },
  {
   "cell_type": "code",
   "execution_count": 4,
   "metadata": {},
   "outputs": [],
   "source": [
    "config = configparser.ConfigParser()\n",
    "config.read('config.ini')\n",
    "\n",
    "path = config.get('PATH', 'PATH_DATA')\n",
    "url = config.get('URL', 'URL')\n",
    "page = int(config.get('PAGE', 'page'))"
   ]
  },
  {
   "cell_type": "markdown",
   "metadata": {},
   "source": [
    "# Processing"
   ]
  },
  {
   "cell_type": "code",
   "execution_count": 5,
   "metadata": {},
   "outputs": [],
   "source": [
    "builder = pyspark.sql.SparkSession.builder \\\n",
    "    .appName(\"Real_state\") \\\n",
    "    .config(\"spark.hadoop.home\", \"C:\\hadoop-3.3.5\\bin\") \\\n",
    "    .config(\"spark.sql.extensions\", \"io.delta.sql.DeltaSparkSessionExtension\") \\\n",
    "    .config(\"spark.sql.catalog.spark_catalog\", \"org.apache.spark.sql.delta.catalog.DeltaCatalog\")\n",
    "\n",
    "spark = configure_spark_with_delta_pip(builder).getOrCreate()"
   ]
  },
  {
   "cell_type": "code",
   "execution_count": 5,
   "metadata": {},
   "outputs": [
    {
     "data": {
      "text/html": [
       "\n",
       "            <div>\n",
       "                <p><b>SparkSession - in-memory</b></p>\n",
       "                \n",
       "        <div>\n",
       "            <p><b>SparkContext</b></p>\n",
       "\n",
       "            <p><a href=\"http://192.168.0.16:4040\">Spark UI</a></p>\n",
       "\n",
       "            <dl>\n",
       "              <dt>Version</dt>\n",
       "                <dd><code>v3.5.1</code></dd>\n",
       "              <dt>Master</dt>\n",
       "                <dd><code>local[*]</code></dd>\n",
       "              <dt>AppName</dt>\n",
       "                <dd><code>Real_state</code></dd>\n",
       "            </dl>\n",
       "        </div>\n",
       "        \n",
       "            </div>\n",
       "        "
      ],
      "text/plain": [
       "<pyspark.sql.session.SparkSession at 0x24affd9df70>"
      ]
     },
     "execution_count": 5,
     "metadata": {},
     "output_type": "execute_result"
    }
   ],
   "source": [
    "spark.active()"
   ]
  },
  {
   "cell_type": "code",
   "execution_count": 4,
   "metadata": {},
   "outputs": [
    {
     "name": "stdout",
     "output_type": "stream",
     "text": [
      "https://www.citya.com/annonces/vente/appartement,maison?sort=b.dateMandat&direction=desc\n"
     ]
    }
   ],
   "source": [
    "print(url)"
   ]
  },
  {
   "cell_type": "code",
   "execution_count": 6,
   "metadata": {},
   "outputs": [
    {
     "name": "stderr",
     "output_type": "stream",
     "text": [
      "c:\\Users\\bakar\\OneDrive\\Bureau\\Projets_Perso\\NukuData\\Real-estate-prices-etl\\NukuData\\ETL-real-estate-prices\\Scripts\\realstate_utils.py:25: GuessedAtParserWarning: No parser was explicitly specified, so I'm using the best available HTML parser for this system (\"html.parser\"). This usually isn't a problem, but if you run this code on another system, or in a different virtual environment, it may use a different parser and behave differently.\n",
      "\n",
      "The code that caused this warning is on line 25 of the file c:\\Users\\bakar\\OneDrive\\Bureau\\Projets_Perso\\NukuData\\Real-estate-prices-etl\\NukuData\\ETL-real-estate-prices\\Scripts\\realstate_utils.py. To get rid of this warning, pass the additional argument 'features=\"html.parser\"' to the BeautifulSoup constructor.\n",
      "\n",
      "  soup = bs(html, \"html\")\n"
     ]
    }
   ],
   "source": [
    "data = rs.scrapping(url,page)"
   ]
  },
  {
   "cell_type": "code",
   "execution_count": 7,
   "metadata": {},
   "outputs": [],
   "source": [
    "# Définissez le schéma du DataFrame\n",
    "schema = StructType([\n",
    "    StructField(\"id\", StringType(), True),\n",
    "    StructField(\"title\", StringType(), True),\n",
    "    StructField(\"surface\", FloatType(), True),\n",
    "    StructField(\"price\", IntegerType(), True),\n",
    "    StructField(\"city\", StringType(), True),\n",
    "    StructField(\"postal_code\", StringType(), True),\n",
    "    StructField(\"number_pieces\", IntegerType(), True),\n",
    "    StructField(\"type\", StringType(), True),\n",
    "    StructField(\"description\", StringType(), True)\n",
    "    \n",
    "])\n",
    "df = spark.createDataFrame(data,schema)"
   ]
  },
  {
   "cell_type": "code",
   "execution_count": 8,
   "metadata": {},
   "outputs": [
    {
     "data": {
      "text/plain": [
       "5567"
      ]
     },
     "execution_count": 8,
     "metadata": {},
     "output_type": "execute_result"
    }
   ],
   "source": [
    "df.count()"
   ]
  },
  {
   "cell_type": "code",
   "execution_count": 9,
   "metadata": {},
   "outputs": [
    {
     "name": "stdout",
     "output_type": "stream",
     "text": [
      "+---+-----------------------------------------+-------+-------+-------------+-----------+-------------+------+--------------------------------------------------------------------------------------------------------------------------------------------------------------------------------------------------------------------------------------------------------------------------------------------------------------------------------------------------------------------------------------------------------------------------------------------------------------------------------------------------------------------------------------------------------------------------------------------------------------------------------------------------------------------------------------------------------------------------------------------------------------------------------------------------------------------------------------------------------------------------------------------------------------------------------------------------------------------------------------------------------------------------------------------------------------------------------------------------------------------------------------------------------------------------------------------------------------------------------------------------------------------------------------------------------------------------------------------------------------------------------------------------------------------------------------------------------------------------------------------------------------------------------------------------------------------------------------------------------------------------------------------------------------------------------------------------------------------------------------------------------------------------------------------------------------------------------------------------------------------------------------------------------------------------------------------------------------------------------------------------------------------------------------------------------------------------------------------------------------------------------------------------------------------------------------------------------------------------------------------------------------------------------------------------------------------------------------------------------------------------------------------------------------------------------------------------------------------------------------------------------------+\n",
      "|id |title                                    |surface|price  |city         |postal_code|number_pieces|type  |description                                                                                                                                                                                                                                                                                                                                                                                                                                                                                                                                                                                                                                                                                                                                                                                                                                                                                                                                                                                                                                                                                                                                                                                                                                                                                                                                                                                                                                                                                                                                                                                                                                                                                                                                                                                                                                                                                                                                                                                                                                                                                                                                                                                                                                                                                                                                                                                                                                                                                                   |\n",
      "+---+-----------------------------------------+-------+-------+-------------+-----------+-------------+------+--------------------------------------------------------------------------------------------------------------------------------------------------------------------------------------------------------------------------------------------------------------------------------------------------------------------------------------------------------------------------------------------------------------------------------------------------------------------------------------------------------------------------------------------------------------------------------------------------------------------------------------------------------------------------------------------------------------------------------------------------------------------------------------------------------------------------------------------------------------------------------------------------------------------------------------------------------------------------------------------------------------------------------------------------------------------------------------------------------------------------------------------------------------------------------------------------------------------------------------------------------------------------------------------------------------------------------------------------------------------------------------------------------------------------------------------------------------------------------------------------------------------------------------------------------------------------------------------------------------------------------------------------------------------------------------------------------------------------------------------------------------------------------------------------------------------------------------------------------------------------------------------------------------------------------------------------------------------------------------------------------------------------------------------------------------------------------------------------------------------------------------------------------------------------------------------------------------------------------------------------------------------------------------------------------------------------------------------------------------------------------------------------------------------------------------------------------------------------------------------------------------+\n",
      "|1_0|Maison                     9 pièces 280m²|280.0  |1160000|Saint Raphaël|83700      |9            |Maison|PROPRIETE DE CARACTERE AVEC PISCINE - Nous vous proposons, une magnifique propriété de 280m2 sur 1730m2 de terrain, dans le [...]\\n                                                secteur prisé de Boulouris. Cette villa d'exception se compose au niveau principal d'une entrée sur une vaste véranda, un séjour avec cheminée, une cuisine soigneusement aménagée et équipée, trois chambre avec placards, un dressing, une salle de bains et un wc séparé.\\nAu dessous un dégagement, une vaste pièce, deux chambres, une salle de bain avec WC.\\nA l'extérieur, un terrain arboré faisant le tour de la bâtisse, avec piscine et pool house.\\nAttenant à la maison, deux garages et possibilité de stationner des véhicules sur la parcelle.\\nPas de travaux à prévoir. Pour tout renseignement complémentaire votre agence CITYA FREJUS PLAGE se tient à votre disposition.  Honoraires à la charge du vendeur. \\nVous pouvez consulter les barèmes d'honoraires à l'adresse suivante : https://www.citya.com/agences-immobilieres/frejus-83061/605 . Montant estimé des dépenses annuelles d'énergie pour un usage standard : entre 2410 et 3320 euros. Prix moyens des énergies indexés en 2022. Les informations sur les risques auxquels ce bien est exposé sont disponibles sur le site Géorisques : https://www.georisques.gouv.fr \\nsecteur prisé de Boulouris. Cette villa d'exception se compose au niveau principal d'une entrée sur une vaste véranda, un séjour avec cheminée, une cuisine soigneusement aménagée et équipée, trois chambre avec placards, un dressing, une salle de bains et un wc séparé.\\nAu dessous un dégagement, une vaste pièce, deux chambres, une salle de bain avec WC.\\nA l'extérieur, un terrain arboré faisant le tour de la bâtisse, avec piscine et pool house.\\nAttenant à la maison, deux garages et possibilité de stationner des véhicules sur la parcelle.\\nPas de travaux à prévoir. Pour tout renseignement complémentaire votre agence CITYA FREJUS PLAGE se tient à votre disposition.  Honoraires à la charge du vendeur. \\nVous pouvez consulter les barèmes d'honoraires à l'adresse suivante : https://www.citya.com/agences-immobilieres/frejus-83061/605 . Montant estimé des dépenses annuelles d'énergie pour un usage standard : entre 2410 et 3320 euros. Prix moyens des énergies indexés en 2022. Les informations sur les risques auxquels ce bien est exposé sont disponibles sur le site Géorisques : https://www.georisques.gouv.fr|\n",
      "+---+-----------------------------------------+-------+-------+-------------+-----------+-------------+------+--------------------------------------------------------------------------------------------------------------------------------------------------------------------------------------------------------------------------------------------------------------------------------------------------------------------------------------------------------------------------------------------------------------------------------------------------------------------------------------------------------------------------------------------------------------------------------------------------------------------------------------------------------------------------------------------------------------------------------------------------------------------------------------------------------------------------------------------------------------------------------------------------------------------------------------------------------------------------------------------------------------------------------------------------------------------------------------------------------------------------------------------------------------------------------------------------------------------------------------------------------------------------------------------------------------------------------------------------------------------------------------------------------------------------------------------------------------------------------------------------------------------------------------------------------------------------------------------------------------------------------------------------------------------------------------------------------------------------------------------------------------------------------------------------------------------------------------------------------------------------------------------------------------------------------------------------------------------------------------------------------------------------------------------------------------------------------------------------------------------------------------------------------------------------------------------------------------------------------------------------------------------------------------------------------------------------------------------------------------------------------------------------------------------------------------------------------------------------------------------------------------+\n",
      "only showing top 1 row\n",
      "\n"
     ]
    }
   ],
   "source": [
    "df.show(1,False)"
   ]
  },
  {
   "cell_type": "code",
   "execution_count": 10,
   "metadata": {},
   "outputs": [],
   "source": [
    "df_final= df.select(\"id\",\"type\",\"city\",\"postal_code\",\"number_pieces\",\"surface\",\"price\")\n"
   ]
  },
  {
   "cell_type": "code",
   "execution_count": 12,
   "metadata": {},
   "outputs": [
    {
     "name": "stdout",
     "output_type": "stream",
     "text": [
      "+---+-----------+-------------------+-----------+-------------+-------+------+\n",
      "| Id|       type|               city|postal_code|number_pieces|surface| price|\n",
      "+---+-----------+-------------------+-----------+-------------+-------+------+\n",
      "|  0|Appartement|            Quimper|      29000|            2|   45.0| 98500|\n",
      "|  1|     Maison|           Bergerac|      24100|            5|   92.0|183000|\n",
      "|  2|Appartement|             Fréjus|      83600|            3|   63.0|399000|\n",
      "|  3|Appartement|             Fréjus|      83600|            3|   63.0|399000|\n",
      "|  4|Appartement|Saint Cyr sur Loire|      37540|            5|   96.0|255000|\n",
      "|  5|Appartement|           Archamps|      74160|            2|  51.16|320000|\n",
      "|  6|Appartement|           Archamps|      74160|            3|   64.0|393500|\n",
      "|  7|Appartement|           Archamps|      74160|            2|   48.0|302500|\n",
      "|  8|Appartement|           Archamps|      74160|            2|   46.0|302500|\n",
      "|  9|Appartement|           Archamps|      74160|            3|   67.0|410000|\n",
      "| 10|Appartement|           Archamps|      74160|            3|   69.0|420000|\n",
      "| 11|Appartement|             Fréjus|      83600|            2|   38.0|138000|\n",
      "| 12|Appartement|             Fréjus|      83600|            2|   38.0|138000|\n",
      "| 13|Appartement|        Saint Denis|      97400|            3|   54.0|130800|\n",
      "| 14|Appartement|        Saint Denis|      97400|            2|   39.0|114450|\n",
      "| 15|Appartement|        Saint Denis|      97490|            2|   31.0| 93500|\n",
      "| 16|Appartement|            Belfort|      90000|            3|  52.31| 43000|\n",
      "| 17|Appartement|           Bordeaux|      33000|            2|   32.0|155000|\n",
      "| 18|Appartement|            Limoges|      87000|            2|  46.99| 66000|\n",
      "| 19|Appartement|               Nice|      06000|            2|   28.0|115000|\n",
      "+---+-----------+-------------------+-----------+-------------+-------+------+\n",
      "only showing top 20 rows\n",
      "\n"
     ]
    }
   ],
   "source": [
    "df_final.show()"
   ]
  },
  {
   "cell_type": "code",
   "execution_count": 29,
   "metadata": {},
   "outputs": [
    {
     "name": "stdout",
     "output_type": "stream",
     "text": [
      "+-----------+-----+\n",
      "|       type|count|\n",
      "+-----------+-----+\n",
      "|Appartement| 4244|\n",
      "|     Maison| 1311|\n",
      "|    Demeure|   12|\n",
      "+-----------+-----+\n",
      "\n"
     ]
    }
   ],
   "source": [
    "df.groupby(\"type\").count().show()"
   ]
  },
  {
   "cell_type": "code",
   "execution_count": 30,
   "metadata": {},
   "outputs": [],
   "source": [
    "# Enrégistrement des résultats dans un parquet en fonction du type de logement \n",
    "df_final.write.partitionBy(\"type\")\\\n",
    "        .mode(\"overwrite\").parquet(\"../output/parquet/realstate.parquet\")"
   ]
  },
  {
   "cell_type": "code",
   "execution_count": 11,
   "metadata": {},
   "outputs": [
    {
     "name": "stdout",
     "output_type": "stream",
     "text": [
      "io.delta:delta-spark_2.12:3.1.0\n"
     ]
    }
   ],
   "source": [
    "print(spark.sparkContext.getConf().get(\"spark.jars.packages\"))"
   ]
  },
  {
   "cell_type": "code",
   "execution_count": 12,
   "metadata": {},
   "outputs": [],
   "source": [
    "# Enrégistrement des résultats dans un delta lake  \n",
    "df_final.write.format(\"delta\")\\\n",
    "  .mode(\"overwrite\").save(\"../output/delta/realstate\")"
   ]
  }
 ],
 "metadata": {
  "kernelspec": {
   "display_name": "base",
   "language": "python",
   "name": "python3"
  },
  "language_info": {
   "codemirror_mode": {
    "name": "ipython",
    "version": 3
   },
   "file_extension": ".py",
   "mimetype": "text/x-python",
   "name": "python",
   "nbconvert_exporter": "python",
   "pygments_lexer": "ipython3",
   "version": "3.8.10"
  }
 },
 "nbformat": 4,
 "nbformat_minor": 2
}
