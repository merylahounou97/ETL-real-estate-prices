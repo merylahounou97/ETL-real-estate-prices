{
 "cells": [
  {
   "cell_type": "markdown",
   "metadata": {},
   "source": [
    "## Roadmap : \n",
    "- Scrapping des données sur le site de \"citya\"\n",
    "- Processing et écriture des données en parquet et en delta \n"
   ]
  },
  {
   "cell_type": "markdown",
   "metadata": {},
   "source": [
    "## Modules"
   ]
  },
  {
   "cell_type": "code",
   "execution_count": 1,
   "metadata": {},
   "outputs": [],
   "source": [
    "import findspark\n",
    "findspark.init()"
   ]
  },
  {
   "cell_type": "code",
   "execution_count": 13,
   "metadata": {},
   "outputs": [],
   "source": [
    "import os\n",
    "import pyspark\n",
    "from delta import *\n",
    "from pyspark.sql import SparkSession, DataFrame\n",
    "from pyspark.sql.functions import *\n",
    "from pyspark.sql.types import *\n",
    "import configparser\n",
    "import realstate_utils as rs\n"
   ]
  },
  {
   "cell_type": "code",
   "execution_count": 4,
   "metadata": {},
   "outputs": [],
   "source": [
    "config = configparser.ConfigParser()\n",
    "config.read('config.ini')\n",
    "\n",
    "path = config.get('PATH', 'PATH_DATA')\n",
    "url = config.get('URL', 'URL')\n",
    "page = int(config.get('PAGE', 'page'))\n",
    "output_parquet = config.get('PARQUET_OUTPUT', 'parquet_output')\n",
    "output_delta = config.get('PARQUET_DELTA', 'delta_output')"
   ]
  },
  {
   "cell_type": "markdown",
   "metadata": {},
   "source": [
    "# Processing"
   ]
  },
  {
   "cell_type": "code",
   "execution_count": 5,
   "metadata": {},
   "outputs": [],
   "source": [
    "builder = pyspark.sql.SparkSession.builder \\\n",
    "    .appName(\"Real_state\") \\\n",
    "    .config(\"spark.hadoop.home\", \"C:\\hadoop-3.3.5\\bin\") \\\n",
    "    .config(\"spark.sql.extensions\", \"io.delta.sql.DeltaSparkSessionExtension\") \\\n",
    "    .config(\"spark.sql.catalog.spark_catalog\", \"org.apache.spark.sql.delta.catalog.DeltaCatalog\")\n",
    "\n",
    "spark = configure_spark_with_delta_pip(builder).getOrCreate()"
   ]
  },
  {
   "cell_type": "code",
   "execution_count": 7,
   "metadata": {},
   "outputs": [],
   "source": [
    "# Définissez le schéma du DataFrame\n",
    "schema = StructType([\n",
    "    StructField(\"id\", StringType(), True),\n",
    "    StructField(\"title\", StringType(), True),\n",
    "    StructField(\"surface\", FloatType(), True),\n",
    "    StructField(\"price\", IntegerType(), True),\n",
    "    StructField(\"city\", StringType(), True),\n",
    "    StructField(\"postal_code\", StringType(), True),\n",
    "    StructField(\"number_pieces\", IntegerType(), True),\n",
    "    StructField(\"type\", StringType(), True),\n",
    "    StructField(\"description\", StringType(), True)\n",
    "    \n",
    "])"
   ]
  },
  {
   "cell_type": "code",
   "execution_count": null,
   "metadata": {},
   "outputs": [],
   "source": [
    "data = rs.scrapping(url,page)"
   ]
  },
  {
   "cell_type": "code",
   "execution_count": 15,
   "metadata": {},
   "outputs": [],
   "source": [
    "#Fonction read_data \n",
    "\n",
    "def read_realstate (page: int, spark: SparkSession , url: str, schema:StructType) :\n",
    "    data = rs.scrapping(url,page)\n",
    "    df = spark.createDataFrame(data,schema)\n",
    "    return df"
   ]
  },
  {
   "cell_type": "code",
   "execution_count": 26,
   "metadata": {},
   "outputs": [],
   "source": [
    "#Fonction pour sélectionner une liste de colonnes \n",
    "def select_columns (df: DataFrame, cols:List):\n",
    "    df_final=df.select(*cols)\n",
    "    return df_final"
   ]
  },
  {
   "cell_type": "code",
   "execution_count": 21,
   "metadata": {},
   "outputs": [],
   "source": [
    "#Ecriture en parquet\n",
    "def write_parquet (final_df:DataFrame, colspartitionBy: List):\n",
    "    final_df.write.partitionBy(*colspartitionBy)\\\n",
    "        .mode(\"overwrite\").parquet(output_parquet)"
   ]
  },
  {
   "cell_type": "code",
   "execution_count": 33,
   "metadata": {},
   "outputs": [],
   "source": [
    "\n",
    "def write_delta (final_df:DataFrame):\n",
    "    final_df.write.format(\"delta\")\\\n",
    "        .mode(\"overwrite\").save(output_delta)"
   ]
  },
  {
   "cell_type": "code",
   "execution_count": 30,
   "metadata": {},
   "outputs": [
    {
     "name": "stderr",
     "output_type": "stream",
     "text": [
      "c:\\Users\\bakar\\OneDrive\\Bureau\\Projets_Perso\\NukuData\\Real-estate-prices-etl\\NukuData\\ETL-real-estate-prices\\Scripts\\realstate_utils.py:25: GuessedAtParserWarning: No parser was explicitly specified, so I'm using the best available HTML parser for this system (\"html.parser\"). This usually isn't a problem, but if you run this code on another system, or in a different virtual environment, it may use a different parser and behave differently.\n",
      "\n",
      "The code that caused this warning is on line 25 of the file c:\\Users\\bakar\\OneDrive\\Bureau\\Projets_Perso\\NukuData\\Real-estate-prices-etl\\NukuData\\ETL-real-estate-prices\\Scripts\\realstate_utils.py. To get rid of this warning, pass the additional argument 'features=\"html.parser\"' to the BeautifulSoup constructor.\n",
      "\n",
      "  soup = bs(html, \"html\")\n"
     ]
    }
   ],
   "source": [
    "df = read_realstate(page,spark,url,schema)\n"
   ]
  },
  {
   "cell_type": "code",
   "execution_count": 27,
   "metadata": {},
   "outputs": [],
   "source": [
    "col_to_select = [\"id\",\"type\",\"city\",\"postal_code\",\"number_pieces\",\"surface\",\"price\"]\n",
    "selected_columns= select_columns(df, col_to_select)"
   ]
  },
  {
   "cell_type": "code",
   "execution_count": 31,
   "metadata": {},
   "outputs": [],
   "source": [
    "cols_to_partitions = [\"type\"]\n",
    "write_parquet(selected_columns,cols_to_partitions )"
   ]
  },
  {
   "cell_type": "code",
   "execution_count": 34,
   "metadata": {},
   "outputs": [],
   "source": [
    "write_delta(selected_columns)"
   ]
  }
 ],
 "metadata": {
  "kernelspec": {
   "display_name": "base",
   "language": "python",
   "name": "python3"
  },
  "language_info": {
   "codemirror_mode": {
    "name": "ipython",
    "version": 3
   },
   "file_extension": ".py",
   "mimetype": "text/x-python",
   "name": "python",
   "nbconvert_exporter": "python",
   "pygments_lexer": "ipython3",
   "version": "3.8.10"
  }
 },
 "nbformat": 4,
 "nbformat_minor": 2
}
