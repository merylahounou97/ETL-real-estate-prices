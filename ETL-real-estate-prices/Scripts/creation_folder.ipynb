{
 "cells": [
  {
   "cell_type": "code",
   "execution_count": null,
   "metadata": {},
   "outputs": [],
   "source": [
    "# if os.path.exists(PATH_DATA):\n",
    "#     print('Le dossier Data existe déja.')\n",
    "# else: \n",
    "#     os.makedirs(PATH_DATA)\n",
    "#     print('Le dossier Data a été créé avec succès.')\n",
    "\n",
    "\n",
    "\n",
    "# if os.path.exists(PATH_DATA_RAW):\n",
    "#     print('Le dossier Data Raw existe déja.')\n",
    "# else: \n",
    "#     os.makedirs(PATH_DATA_RAW)\n",
    "#     print('Le dossier Data Raw a été créé avec succès.')\n",
    "\n",
    "\n",
    "\n",
    "# if os.path.exists(PATH_DATA_RAW + \"/Citya/json\"):\n",
    "#     print('Le dossier Data Raw citya existe déja.')\n",
    "# else: \n",
    "#     os.makedirs(PATH_DATA_RAW + \"/Citya/json\")\n",
    "#     print('Le dossier Data Raw citya a été créé avec succès.')\n",
    "    \n",
    "# if os.path.exists(PATH_DATA_RAW + \"/Citya/parquet\"):\n",
    "#     print('Le dossier Data Raw citya existe déja.')\n",
    "# else: \n",
    "#     os.makedirs(PATH_DATA_RAW + \"/Citya/parquet\")\n",
    "#     print('Le dossier Data Raw citya a été créé avec succès.')"
   ]
  }
 ],
 "metadata": {
  "language_info": {
   "name": "python"
  }
 },
 "nbformat": 4,
 "nbformat_minor": 2
}
