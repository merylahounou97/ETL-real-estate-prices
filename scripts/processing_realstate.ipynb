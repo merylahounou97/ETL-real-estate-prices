{
 "cells": [
  {
   "cell_type": "markdown",
   "metadata": {},
   "source": [
    "# Modules"
   ]
  },
  {
   "cell_type": "code",
   "execution_count": 1,
   "metadata": {},
   "outputs": [],
   "source": [
    "import pyspark\n",
    "from pyspark.sql.functions import *\n",
    "\n",
    "from pyspark.sql.types import *"
   ]
  },
  {
   "cell_type": "markdown",
   "metadata": {},
   "source": [
    "# Constantes"
   ]
  },
  {
   "cell_type": "code",
   "execution_count": 2,
   "metadata": {},
   "outputs": [],
   "source": [
    "PATH_DATA = r\"C:\\Users\\ahoun\\Documents\\Documents\\Nuku Data\\ETL-real-estate-prices\\Data\"\n",
    "PATH_DATA_RAW = rf\"{PATH_DATA}\\Raw\"\n",
    "PATH_DATA_TRANSFORMED = rf\"{PATH_DATA}\\Clean\""
   ]
  },
  {
   "cell_type": "markdown",
   "metadata": {},
   "source": [
    "# Processing"
   ]
  },
  {
   "cell_type": "code",
   "execution_count": 3,
   "metadata": {},
   "outputs": [],
   "source": [
    "# Initialisez une session Spark\n",
    "spark = pyspark.sql.SparkSession.builder \\\n",
    "    .appName(\"Realstate\") \\\n",
    "    .getOrCreate()"
   ]
  },
  {
   "cell_type": "code",
   "execution_count": 4,
   "metadata": {},
   "outputs": [
    {
     "data": {
      "text/html": [
       "\n",
       "            <div>\n",
       "                <p><b>SparkSession - in-memory</b></p>\n",
       "                \n",
       "        <div>\n",
       "            <p><b>SparkContext</b></p>\n",
       "\n",
       "            <p><a href=\"http://192.168.0.102:4040\">Spark UI</a></p>\n",
       "\n",
       "            <dl>\n",
       "              <dt>Version</dt>\n",
       "                <dd><code>v3.5.0</code></dd>\n",
       "              <dt>Master</dt>\n",
       "                <dd><code>local[*]</code></dd>\n",
       "              <dt>AppName</dt>\n",
       "                <dd><code>Realstate</code></dd>\n",
       "            </dl>\n",
       "        </div>\n",
       "        \n",
       "            </div>\n",
       "        "
      ],
      "text/plain": [
       "<pyspark.sql.session.SparkSession at 0x1c783840e20>"
      ]
     },
     "execution_count": 4,
     "metadata": {},
     "output_type": "execute_result"
    }
   ],
   "source": [
    "spark.active()"
   ]
  },
  {
   "cell_type": "code",
   "execution_count": 5,
   "metadata": {},
   "outputs": [
    {
     "name": "stdout",
     "output_type": "stream",
     "text": [
      "root\n",
      " |-- description: string (nullable = true)\n",
      " |-- id: long (nullable = true)\n",
      " |-- price: string (nullable = true)\n",
      " |-- room: string (nullable = true)\n",
      " |-- surface: string (nullable = true)\n",
      " |-- title: string (nullable = true)\n",
      "\n"
     ]
    }
   ],
   "source": [
    "# Read JSON file into dataframe\n",
    "df = spark.read.json(rf'{PATH_DATA_RAW}\\Page_2\\data_page_2.json')\n",
    "df.printSchema()"
   ]
  },
  {
   "cell_type": "code",
   "execution_count": 6,
   "metadata": {},
   "outputs": [
    {
     "name": "stdout",
     "output_type": "stream",
     "text": [
      "+--------------------+---+-------+----+----------------+--------------------+\n",
      "|         description| id|  price|room|         surface|               title|\n",
      "+--------------------+---+-------+----+----------------+--------------------+\n",
      "|Lassen Sie sich d...|  0|1795590| 5.5|             220|«Letzte Parzelle ...|\n",
      "|Die beiden Einfam...|  1|1367460| 5.5|             170|«An ruhiger, sonn...|\n",
      "|Villa Panoramica ...|  2|2939400| 6.5|             260|«Villa individuel...|\n",
      "|Wir verkaufen nac...|  3|   NULL| 6.5|             190|«Grosszügiges 3.5...|\n",
      "|VILLA N° 3 - CBel...|  4|1099080| 5.5|             170|«Villa contiguë d...|\n",
      "|VILLA N° 5 - EBel...|  5|1124640| 5.5|             170|«Villa contiguë d...|\n",
      "|VILLA N° 2 - BBel...|  6|1086300| 5.5|             170|«Villa contiguë d...|\n",
      "|VILLA N° 4 - DBel...|  7|1111860| 5.5|             170|«Distribution har...|\n",
      "|Neubau im sonnenv...|  8|   NULL| 5.5|             350|«NEUBAU/NEW BUILD...|\n",
      "|In Därstetten ers...|  9|1341770| 6.5|             170|«3.5 Zimmer-Einfa...|\n",
      "|In der Überbauung...| 10|1597500| 5.5|             450|«Einfamilienhaus ...|\n",
      "|Die vier Neubaute...| 11|   NULL| 5.5|Price on request|«Vier grosszügige...|\n",
      "|Im Zentrum von Dü...| 12|1635840| 5.5|             220|«Im Zentrum von D...|\n",
      "|                NULL| 13| 958500| 4.5|             160|«Villa individuel...|\n",
      "|La maison est rép...| 14|1853100|   7|             350|«Maison individue...|\n",
      "|Ihr Stück Himmel ...| 15|2108700| 6.5|             300|«Ihr Stück Himmel...|\n",
      "|Willkommen in Ihr...| 16|2543220| 5.5|             290|«Leben in unvergl...|\n",
      "|Papeliohaus, so n...| 17|1520820| 6.5|             470|«Wohn- Geschäftsh...|\n",
      "|Située dans un qu...| 18|1910610|   5|             210|«Magnifique propr...|\n",
      "|Einfamilienhaus m...| 19|1265220| 5.5|             270|«Exklusive Gelege...|\n",
      "+--------------------+---+-------+----+----------------+--------------------+\n",
      "only showing top 20 rows\n",
      "\n"
     ]
    }
   ],
   "source": [
    "df.show()"
   ]
  }
 ],
 "metadata": {
  "kernelspec": {
   "display_name": "base",
   "language": "python",
   "name": "python3"
  },
  "language_info": {
   "codemirror_mode": {
    "name": "ipython",
    "version": 3
   },
   "file_extension": ".py",
   "mimetype": "text/x-python",
   "name": "python",
   "nbconvert_exporter": "python",
   "pygments_lexer": "ipython3",
   "version": "3.9.16"
  }
 },
 "nbformat": 4,
 "nbformat_minor": 2
}
