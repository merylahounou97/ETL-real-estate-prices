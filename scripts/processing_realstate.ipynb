{
 "cells": [
  {
   "cell_type": "markdown",
   "metadata": {},
   "source": [
    "# Modules"
   ]
  },
  {
   "cell_type": "code",
   "execution_count": 1,
   "metadata": {},
   "outputs": [],
   "source": [
    "import os\n",
    "import pyspark\n",
    "\n",
    "\n",
    "from pyspark.sql.functions import *\n",
    "from pyspark.sql.types import *"
   ]
  },
  {
   "cell_type": "markdown",
   "metadata": {},
   "source": [
    "# Constantes"
   ]
  },
  {
   "cell_type": "code",
   "execution_count": 2,
   "metadata": {},
   "outputs": [],
   "source": [
    "PATH_DATA = r\"C:\\Users\\ahoun\\Documents\\Documents\\Nuku Data\\ETL-real-estate-prices\\Data\"\n",
    "PATH_DATA_RAW = rf\"{PATH_DATA}\\Raw\"\n",
    "PATH_DATA_TRANSFORMED = rf\"{PATH_DATA}\\Clean\""
   ]
  },
  {
   "cell_type": "markdown",
   "metadata": {},
   "source": [
    "# Processing"
   ]
  },
  {
   "cell_type": "code",
   "execution_count": 3,
   "metadata": {},
   "outputs": [],
   "source": [
    "spark = pyspark.sql.SparkSession.builder \\\n",
    "    .appName(\"Real_state\") \\\n",
    "    .getOrCreate()"
   ]
  },
  {
   "cell_type": "code",
   "execution_count": 4,
   "metadata": {},
   "outputs": [
    {
     "data": {
      "text/html": [
       "\n",
       "            <div>\n",
       "                <p><b>SparkSession - in-memory</b></p>\n",
       "                \n",
       "        <div>\n",
       "            <p><b>SparkContext</b></p>\n",
       "\n",
       "            <p><a href=\"http://LAPTOP-GITS5C9T:4040\">Spark UI</a></p>\n",
       "\n",
       "            <dl>\n",
       "              <dt>Version</dt>\n",
       "                <dd><code>v3.5.0</code></dd>\n",
       "              <dt>Master</dt>\n",
       "                <dd><code>local[*]</code></dd>\n",
       "              <dt>AppName</dt>\n",
       "                <dd><code>Real_state</code></dd>\n",
       "            </dl>\n",
       "        </div>\n",
       "        \n",
       "            </div>\n",
       "        "
      ],
      "text/plain": [
       "<pyspark.sql.session.SparkSession at 0x2a18fa00f40>"
      ]
     },
     "execution_count": 4,
     "metadata": {},
     "output_type": "execute_result"
    }
   ],
   "source": [
    "spark.active()"
   ]
  },
  {
   "cell_type": "code",
   "execution_count": 5,
   "metadata": {},
   "outputs": [
    {
     "name": "stdout",
     "output_type": "stream",
     "text": [
      "root\n",
      " |-- description: string (nullable = true)\n",
      " |-- id: long (nullable = true)\n",
      " |-- price: string (nullable = true)\n",
      " |-- room: string (nullable = true)\n",
      " |-- surface: string (nullable = true)\n",
      " |-- title: string (nullable = true)\n",
      "\n"
     ]
    }
   ],
   "source": [
    "df = spark.read.json(rf'{PATH_DATA_RAW}\\data_page_1.json')\n",
    "df.printSchema()"
   ]
  },
  {
   "cell_type": "code",
   "execution_count": 6,
   "metadata": {},
   "outputs": [
    {
     "name": "stdout",
     "output_type": "stream",
     "text": [
      "+--------------------+---+-------+----+-------+--------------------+\n",
      "|         description| id|  price|room|surface|               title|\n",
      "+--------------------+---+-------+----+-------+--------------------+\n",
      "|Les maisons de LY...|  0|   NULL| 5.5|    220|«Maison contiguë ...|\n",
      "|Im idyllischen Ae...|  1|1515120| 6.5|    250|«Neue Doppeleinfa...|\n",
      "|Das freistehende ...|  2|1348200| 5.5|    190|«Neubau Einfamili...|\n",
      "|Das freistehende ...|  3|1348200| 5.5|    190|«Neubau Einfamili...|\n",
      "|Nouvelle promotio...|  4|1784760| 5.5|    210|«Exigez le meille...|\n",
      "|Nouvelle promotio...|  5|1861800| 5.5|    210|«Le meilleur pour...|\n",
      "|Nouvelle promotio...|  6|1784760| 5.5|    210|«À la hauteur de ...|\n",
      "|Nouvelle promotio...|  7|1784760| 5.5|    210|«Une occasion à n...|\n",
      "|Nouvelle promotio...|  8|1861800| 5.5|    210|«Une opportunité ...|\n",
      "|Érigé sur une jol...|  9|1181280| 5.5|    180|«Environnement id...|\n",
      "|Projekt In dieser...| 10|1919580| 5.5|    260|«RÄBBERG - AUSSIC...|\n",
      "|Cette nouvelle pr...| 11|1206960| 5.5|    190|«A VENDRE 8 VILLA...|\n",
      "|Cette nouvelle pr...| 12|1117080| 5.5|    190|«A VENDRE 8 VILLA...|\n",
      "|Nous vendons, clé...| 13|1083690| 5.5|    170|«Magnifiques vill...|\n",
      "|Objektbeschrieb A...| 14|2028720| 5.5|    190|«Neue freistehend...|\n",
      "|Willkommen in den...| 15|1527960| 7.5|    190|«COSMO TOWNHOUSE ...|\n",
      "|Willkommen in den...| 16|1566480| 7.5|    190|«COSMO TOWNHOUSE ...|\n",
      "|Willkommen in den...| 17|1348200| 5.5|    150|«COSMO TOWNHOUSE ...|\n",
      "|Willkommen in den...| 18|1399560| 5.5|    150|«COSMO TOWNHOUSE ...|\n",
      "|Neubau: 3.5 Zimme...| 19|1791180| 5.5|    160|«Neubau: 3.5 Zimm...|\n",
      "+--------------------+---+-------+----+-------+--------------------+\n",
      "only showing top 20 rows\n",
      "\n"
     ]
    }
   ],
   "source": [
    "df.show()"
   ]
  },
  {
   "cell_type": "code",
   "execution_count": 7,
   "metadata": {},
   "outputs": [
    {
     "name": "stdout",
     "output_type": "stream",
     "text": [
      "root\n",
      " |-- description: string (nullable = true)\n",
      " |-- id: integer (nullable = true)\n",
      " |-- price: integer (nullable = true)\n",
      " |-- room: double (nullable = true)\n",
      " |-- surface: double (nullable = true)\n",
      " |-- title: string (nullable = true)\n",
      "\n",
      "+--------------------+---+-------+----+-------+--------------------+\n",
      "|         description| id|  price|room|surface|               title|\n",
      "+--------------------+---+-------+----+-------+--------------------+\n",
      "|Les maisons de LY...|  0|   NULL| 5.5|  220.0|«Maison contiguë ...|\n",
      "|Im idyllischen Ae...|  1|1515120| 6.5|  250.0|«Neue Doppeleinfa...|\n",
      "|Das freistehende ...|  2|1348200| 5.5|  190.0|«Neubau Einfamili...|\n",
      "|Das freistehende ...|  3|1348200| 5.5|  190.0|«Neubau Einfamili...|\n",
      "|Nouvelle promotio...|  4|1784760| 5.5|  210.0|«Exigez le meille...|\n",
      "|Nouvelle promotio...|  5|1861800| 5.5|  210.0|«Le meilleur pour...|\n",
      "|Nouvelle promotio...|  6|1784760| 5.5|  210.0|«À la hauteur de ...|\n",
      "|Nouvelle promotio...|  7|1784760| 5.5|  210.0|«Une occasion à n...|\n",
      "|Nouvelle promotio...|  8|1861800| 5.5|  210.0|«Une opportunité ...|\n",
      "|Érigé sur une jol...|  9|1181280| 5.5|  180.0|«Environnement id...|\n",
      "|Projekt In dieser...| 10|1919580| 5.5|  260.0|«RÄBBERG - AUSSIC...|\n",
      "|Cette nouvelle pr...| 11|1206960| 5.5|  190.0|«A VENDRE 8 VILLA...|\n",
      "|Cette nouvelle pr...| 12|1117080| 5.5|  190.0|«A VENDRE 8 VILLA...|\n",
      "|Nous vendons, clé...| 13|1083690| 5.5|  170.0|«Magnifiques vill...|\n",
      "|Objektbeschrieb A...| 14|2028720| 5.5|  190.0|«Neue freistehend...|\n",
      "|Willkommen in den...| 15|1527960| 7.5|  190.0|«COSMO TOWNHOUSE ...|\n",
      "|Willkommen in den...| 16|1566480| 7.5|  190.0|«COSMO TOWNHOUSE ...|\n",
      "|Willkommen in den...| 17|1348200| 5.5|  150.0|«COSMO TOWNHOUSE ...|\n",
      "|Willkommen in den...| 18|1399560| 5.5|  150.0|«COSMO TOWNHOUSE ...|\n",
      "|Neubau: 3.5 Zimme...| 19|1791180| 5.5|  160.0|«Neubau: 3.5 Zimm...|\n",
      "+--------------------+---+-------+----+-------+--------------------+\n",
      "only showing top 20 rows\n",
      "\n"
     ]
    }
   ],
   "source": [
    "df = df.withColumn(\"id\", df[\"id\"].cast(IntegerType())) \\\n",
    "    .withColumn(\"price\", df[\"price\"].cast(IntegerType())) \\\n",
    "    .withColumn(\"room\", df[\"room\"].cast(DoubleType())) \\\n",
    "    .withColumn(\"surface\", df[\"surface\"].cast(DoubleType()))\n",
    "df.printSchema()\n",
    "df.show()"
   ]
  },
  {
   "cell_type": "code",
   "execution_count": 8,
   "metadata": {},
   "outputs": [
    {
     "name": "stdout",
     "output_type": "stream",
     "text": [
      "root\n",
      " |-- description: string (nullable = true)\n",
      " |-- id: long (nullable = true)\n",
      " |-- price: string (nullable = true)\n",
      " |-- room: string (nullable = true)\n",
      " |-- surface: string (nullable = true)\n",
      " |-- title: string (nullable = true)\n",
      "\n",
      "+--------------------+---+-------+----+-------+--------------------+\n",
      "|         description| id|  price|room|surface|               title|\n",
      "+--------------------+---+-------+----+-------+--------------------+\n",
      "|Les maisons de LY...|  0|   NULL| 5.5|    220|«Maison contiguë ...|\n",
      "|Im idyllischen Ae...|  1|1515120| 6.5|    250|«Neue Doppeleinfa...|\n",
      "|Das freistehende ...|  2|1348200| 5.5|    190|«Neubau Einfamili...|\n",
      "|Das freistehende ...|  3|1348200| 5.5|    190|«Neubau Einfamili...|\n",
      "|Nouvelle promotio...|  4|1784760| 5.5|    210|«Exigez le meille...|\n",
      "|Nouvelle promotio...|  5|1861800| 5.5|    210|«Le meilleur pour...|\n",
      "|Nouvelle promotio...|  6|1784760| 5.5|    210|«À la hauteur de ...|\n",
      "|Nouvelle promotio...|  7|1784760| 5.5|    210|«Une occasion à n...|\n",
      "|Nouvelle promotio...|  8|1861800| 5.5|    210|«Une opportunité ...|\n",
      "|Érigé sur une jol...|  9|1181280| 5.5|    180|«Environnement id...|\n",
      "|Projekt In dieser...| 10|1919580| 5.5|    260|«RÄBBERG - AUSSIC...|\n",
      "|Cette nouvelle pr...| 11|1206960| 5.5|    190|«A VENDRE 8 VILLA...|\n",
      "|Cette nouvelle pr...| 12|1117080| 5.5|    190|«A VENDRE 8 VILLA...|\n",
      "|Nous vendons, clé...| 13|1083690| 5.5|    170|«Magnifiques vill...|\n",
      "|Objektbeschrieb A...| 14|2028720| 5.5|    190|«Neue freistehend...|\n",
      "|Willkommen in den...| 15|1527960| 7.5|    190|«COSMO TOWNHOUSE ...|\n",
      "|Willkommen in den...| 16|1566480| 7.5|    190|«COSMO TOWNHOUSE ...|\n",
      "|Willkommen in den...| 17|1348200| 5.5|    150|«COSMO TOWNHOUSE ...|\n",
      "|Willkommen in den...| 18|1399560| 5.5|    150|«COSMO TOWNHOUSE ...|\n",
      "|Neubau: 3.5 Zimme...| 19|1791180| 5.5|    160|«Neubau: 3.5 Zimm...|\n",
      "+--------------------+---+-------+----+-------+--------------------+\n",
      "only showing top 20 rows\n",
      "\n"
     ]
    }
   ],
   "source": [
    "json_files = [os.path.join(PATH_DATA_RAW, f) for f in os.listdir(PATH_DATA_RAW) if f.endswith(\".json\")]\n",
    "\n",
    "# Initialisez un DataFrame vide\n",
    "concatenated_df = None\n",
    "\n",
    "# Parcourez la liste des fichiers JSON et lisez-les, puis concaténez-les\n",
    "for json_file in json_files:\n",
    "    # Lisez chaque fichier JSON dans un DataFrame\n",
    "    temp_df = spark.read.json(json_file)\n",
    "    \n",
    "    # Si le DataFrame temporaire n'est pas vide, concaténez-le\n",
    "    if not temp_df.isEmpty():\n",
    "        if concatenated_df is None:\n",
    "            concatenated_df = temp_df\n",
    "        else:\n",
    "            concatenated_df = concatenated_df.union(temp_df)\n",
    "\n",
    "# Si \"concatenated_df\" n'est pas vide, affichez le schéma et les données\n",
    "if concatenated_df is not None and not concatenated_df.isEmpty():\n",
    "    concatenated_df.printSchema()\n",
    "    concatenated_df.show()"
   ]
  },
  {
   "cell_type": "code",
   "execution_count": 9,
   "metadata": {},
   "outputs": [
    {
     "data": {
      "text/plain": [
       "1008"
      ]
     },
     "execution_count": 9,
     "metadata": {},
     "output_type": "execute_result"
    }
   ],
   "source": [
    "concatenated_df.count()"
   ]
  }
 ],
 "metadata": {
  "kernelspec": {
   "display_name": "base",
   "language": "python",
   "name": "python3"
  },
  "language_info": {
   "codemirror_mode": {
    "name": "ipython",
    "version": 3
   },
   "file_extension": ".py",
   "mimetype": "text/x-python",
   "name": "python",
   "nbconvert_exporter": "python",
   "pygments_lexer": "ipython3",
   "version": "3.9.16"
  }
 },
 "nbformat": 4,
 "nbformat_minor": 2
}
